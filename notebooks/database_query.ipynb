{
 "cells": [
  {
   "cell_type": "code",
   "execution_count": null,
   "id": "156a60e7",
   "metadata": {},
   "outputs": [],
   "source": [
    "from lsst.db.connection import DBConnection\n",
    "from lsst.db.message import Message"
   ]
  },
  {
   "cell_type": "code",
   "execution_count": null,
   "id": "d6c0ae3b",
   "metadata": {},
   "outputs": [],
   "source": [
    "# Query filtering\n",
    "from itertools import islice\n",
    "# use password='' setting the password for the database\n",
    "db_connection = DBConnection(database=\"exposurelog\")\n",
    "db_connection.start()\n",
    "th = db_connection.get_table_handler(Message)\n",
    "values = th.query({})\n",
    "print(f\"Number of logs {len(values)}\")\n",
    "for value in islice(values, 10):\n",
    "    print(value)\n",
    "th.close()"
   ]
  },
  {
   "cell_type": "code",
   "execution_count": null,
   "id": "0e1a0a0e",
   "metadata": {},
   "outputs": [],
   "source": [
    "# Query filtering\n",
    "from uuid import UUID\n",
    "message_id = UUID(\"c2d95b7e-8160-4c2d-bce9-3e11606d8511\")\n",
    "values = th.query({\"id\": message_id})\n",
    "for value in values:\n",
    "    print(value)"
   ]
  }
 ],
 "metadata": {
  "kernelspec": {
   "display_name": "Python 3 (ipykernel)",
   "language": "python",
   "name": "python3"
  },
  "language_info": {
   "codemirror_mode": {
    "name": "ipython",
    "version": 3
   },
   "file_extension": ".py",
   "mimetype": "text/x-python",
   "name": "python",
   "nbconvert_exporter": "python",
   "pygments_lexer": "ipython3",
   "version": "3.10.11"
  }
 },
 "nbformat": 4,
 "nbformat_minor": 5
}
